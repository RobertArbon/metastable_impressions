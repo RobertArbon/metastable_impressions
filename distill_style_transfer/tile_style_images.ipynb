{
 "cells": [
  {
   "cell_type": "markdown",
   "metadata": {
    "colab_type": "text",
    "id": "FsFc1mE51tCd"
   },
   "source": [
    "## Install, Import, Load Model"
   ]
  },
  {
   "cell_type": "code",
   "execution_count": 4,
   "metadata": {
    "colab": {},
    "colab_type": "code",
    "id": "RBr8QbboRAdU"
   },
   "outputs": [],
   "source": [
    "# Imports\n",
    "\n",
    "import numpy as np\n",
    "import tensorflow as tf\n",
    "%matplotlib inline\n",
    "from PIL import Image\n",
    "from os.path import basename\n",
    "from glob import glob"
   ]
  },
  {
   "cell_type": "markdown",
   "metadata": {
    "colab_type": "text",
    "id": "FB4nsWJFb9VQ"
   },
   "source": [
    "## Load input images"
   ]
  },
  {
   "cell_type": "markdown",
   "metadata": {
    "colab_type": "text",
    "id": "G5LDE5mraW9u"
   },
   "source": [
    "First, let's take a look at the two images we want to transfer styles between. This code should feel familiar from the Lucid tutorial:\n",
    "\n",
    "Later in the notebook there'll be an opportunity to upload your own images, too."
   ]
  },
  {
   "cell_type": "code",
   "execution_count": 7,
   "metadata": {},
   "outputs": [],
   "source": [
    "def load_img(path_to_img, max_dim=512):\n",
    "  img = Image.open(path_to_img)\n",
    "  long = min(img.size)\n",
    "  scale = max_dim/long\n",
    "  img = np.asarray(img.resize((round(img.size[0]*scale), round(img.size[1]*scale)), \n",
    "                   Image.ANTIALIAS))\n",
    "  img_max = np.iinfo(img.dtype).max\n",
    "  npimg = np.divide(img, img_max, dtype=np.float32)\n",
    "  return npimg"
   ]
  },
  {
   "cell_type": "markdown",
   "metadata": {},
   "source": [
    "## Tile whole image"
   ]
  },
  {
   "cell_type": "code",
   "execution_count": 9,
   "metadata": {},
   "outputs": [
    {
     "name": "stdout",
     "output_type": "stream",
     "text": [
      "hooke\n",
      "pollock\n",
      "illumination\n",
      "repin\n",
      "boucher\n"
     ]
    }
   ],
   "source": [
    "style_paths = glob(\"styles_final/*.jpg\")\n",
    "\n",
    "for style_path in style_paths:\n",
    "    style_name = basename(style_path).split('.')[0]\n",
    "    print(style_name)\n",
    "    img = Image.open(style_path)\n",
    "    img_arr = np.asarray(img)\n",
    "\n",
    "    for i in [2,3,4,5]:\n",
    "        new_img_arr = np.tile(img_arr, (i,i,1))\n",
    "\n",
    "        new_img = Image.fromarray(new_img_arr)\n",
    "        new_size = tuple((np.array(new_img.size)/i).astype(int))\n",
    "\n",
    "        new_img = new_img.resize(new_size)\n",
    "\n",
    "        new_img.save('styles_final/{1}-tile-{0}x{0}.jpg'.format(i, style_name))"
   ]
  },
  {
   "cell_type": "code",
   "execution_count": null,
   "metadata": {},
   "outputs": [],
   "source": []
  }
 ],
 "metadata": {
  "accelerator": "GPU",
  "colab": {
   "collapsed_sections": [
    "JndnmDMp66FL",
    "FsFc1mE51tCd"
   ],
   "name": "style-transfer-2d.ipynb",
   "provenance": [],
   "version": "0.3.2"
  },
  "kernelspec": {
   "display_name": "Python 3",
   "language": "python",
   "name": "python3"
  },
  "language_info": {
   "codemirror_mode": {
    "name": "ipython",
    "version": 3
   },
   "file_extension": ".py",
   "mimetype": "text/x-python",
   "name": "python",
   "nbconvert_exporter": "python",
   "pygments_lexer": "ipython3",
   "version": "3.6.7"
  }
 },
 "nbformat": 4,
 "nbformat_minor": 1
}
