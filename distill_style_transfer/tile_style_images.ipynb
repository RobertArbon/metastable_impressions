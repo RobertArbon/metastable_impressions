{
 "cells": [
  {
   "cell_type": "markdown",
   "metadata": {
    "colab_type": "text",
    "id": "JndnmDMp66FL"
   },
   "source": [
    "##### Copyright 2018 Google LLC.\n",
    "\n",
    "Licensed under the Apache License, Version 2.0 (the \"License\");"
   ]
  },
  {
   "cell_type": "code",
   "execution_count": 1,
   "metadata": {
    "cellView": "both",
    "colab": {},
    "colab_type": "code",
    "id": "hMqWDc_m6rUC"
   },
   "outputs": [],
   "source": [
    "# Licensed under the Apache License, Version 2.0 (the \"License\");\n",
    "# you may not use this file except in compliance with the License.\n",
    "# You may obtain a copy of the License at\n",
    "#\n",
    "# https://www.apache.org/licenses/LICENSE-2.0\n",
    "#\n",
    "# Unless required by applicable law or agreed to in writing, software\n",
    "# distributed under the License is distributed on an \"AS IS\" BASIS,\n",
    "# WITHOUT WARRANTIES OR CONDITIONS OF ANY KIND, either express or implied.\n",
    "# See the License for the specific language governing permissions and\n",
    "# limitations under the License."
   ]
  },
  {
   "cell_type": "markdown",
   "metadata": {
    "colab_type": "text",
    "id": "FsFc1mE51tCd"
   },
   "source": [
    "## Install, Import, Load Model"
   ]
  },
  {
   "cell_type": "code",
   "execution_count": 12,
   "metadata": {
    "colab": {},
    "colab_type": "code",
    "id": "RBr8QbboRAdU"
   },
   "outputs": [],
   "source": [
    "# Imports\n",
    "\n",
    "import numpy as np\n",
    "import tensorflow as tf\n",
    "%matplotlib inline\n",
    "from PIL import Image\n",
    "\n",
    "# from lucid.modelzoo import vision_models\n",
    "# from lucid.misc.io import show, load, save\n",
    "# from lucid.misc.tfutil import create_session\n",
    "\n",
    "# import lucid.optvis.objectives as objectives\n",
    "# import lucid.optvis.param as param\n",
    "# import lucid.optvis.render as render"
   ]
  },
  {
   "cell_type": "markdown",
   "metadata": {
    "colab_type": "text",
    "id": "FB4nsWJFb9VQ"
   },
   "source": [
    "## Load input images"
   ]
  },
  {
   "cell_type": "markdown",
   "metadata": {
    "colab_type": "text",
    "id": "G5LDE5mraW9u"
   },
   "source": [
    "First, let's take a look at the two images we want to transfer styles between. This code should feel familiar from the Lucid tutorial:\n",
    "\n",
    "Later in the notebook there'll be an opportunity to upload your own images, too."
   ]
  },
  {
   "cell_type": "code",
   "execution_count": 3,
   "metadata": {},
   "outputs": [],
   "source": [
    "from os.path import basename\n",
    "style_path = \"styles/hooke.jpg\"\n",
    "style_name = basename(style_path).split('.')[0]"
   ]
  },
  {
   "cell_type": "code",
   "execution_count": 7,
   "metadata": {},
   "outputs": [],
   "source": [
    "def load_img(path_to_img, max_dim=512):\n",
    "  img = Image.open(path_to_img)\n",
    "  long = min(img.size)\n",
    "  scale = max_dim/long\n",
    "  img = np.asarray(img.resize((round(img.size[0]*scale), round(img.size[1]*scale)), \n",
    "                   Image.ANTIALIAS))\n",
    "  img_max = np.iinfo(img.dtype).max\n",
    "  npimg = np.divide(img, img_max, dtype=np.float32)\n",
    "  return npimg"
   ]
  },
  {
   "cell_type": "markdown",
   "metadata": {},
   "source": [
    "## Tile whole image"
   ]
  },
  {
   "cell_type": "code",
   "execution_count": 45,
   "metadata": {},
   "outputs": [],
   "source": [
    "img = Image.open(style_path)\n",
    "img_arr = np.asarray(img)\n",
    "\n",
    "for i in [2,5,10]:\n",
    "    new_img_arr = np.tile(img_arr, (i,i,1))\n",
    "\n",
    "    new_img = Image.fromarray(new_img_arr)\n",
    "    new_size = tuple((np.array(new_img.size)/i).astype(int))\n",
    "\n",
    "    new_img = new_img.resize(new_size)\n",
    "\n",
    "    new_img.save('styles/hooke-tile-{0}x{0}.jpg'.format(i))"
   ]
  },
  {
   "cell_type": "code",
   "execution_count": 46,
   "metadata": {},
   "outputs": [
    {
     "data": {
      "text/plain": [
       "(815, 823)"
      ]
     },
     "execution_count": 46,
     "metadata": {},
     "output_type": "execute_result"
    }
   ],
   "source": [
    "tuple(*list(np.random.randint(img_arr.shape[0]/2,img_arr.shape[1]/2, (1,2))))"
   ]
  },
  {
   "cell_type": "markdown",
   "metadata": {},
   "source": [
    "## Random tiles"
   ]
  },
  {
   "cell_type": "code",
   "execution_count": 48,
   "metadata": {},
   "outputs": [],
   "source": [
    "for i in [2,3,4,5]:\n",
    "    starti, startj = tuple(*list(np.random.randint(img_arr.shape[0]/i,img_arr.shape[1]/i, (1,2))))\n",
    "    height, width = int(img_arr.shape[0]/i), int(img_arr.shape[1]/i)\n",
    "    \n",
    "    new_img_arr = np.tile(img_arr[starti:starti+height,startj:startj+width,:], (i,i,1))\n",
    "\n",
    "    new_img = Image.fromarray(new_img_arr)\n",
    "    new_size = tuple((np.array(new_img.size)/i).astype(int))\n",
    "\n",
    "    new_img = new_img.resize(new_size)\n",
    "\n",
    "    new_img.save('styles/hooke-tile-random-{0}x{0}.jpg'.format(i))"
   ]
  },
  {
   "cell_type": "code",
   "execution_count": null,
   "metadata": {},
   "outputs": [],
   "source": []
  }
 ],
 "metadata": {
  "accelerator": "GPU",
  "colab": {
   "collapsed_sections": [
    "JndnmDMp66FL",
    "FsFc1mE51tCd"
   ],
   "name": "style-transfer-2d.ipynb",
   "provenance": [],
   "version": "0.3.2"
  },
  "kernelspec": {
   "display_name": "Python 3",
   "language": "python",
   "name": "python3"
  },
  "language_info": {
   "codemirror_mode": {
    "name": "ipython",
    "version": 3
   },
   "file_extension": ".py",
   "mimetype": "text/x-python",
   "name": "python",
   "nbconvert_exporter": "python",
   "pygments_lexer": "ipython3",
   "version": "3.6.7"
  }
 },
 "nbformat": 4,
 "nbformat_minor": 1
}
